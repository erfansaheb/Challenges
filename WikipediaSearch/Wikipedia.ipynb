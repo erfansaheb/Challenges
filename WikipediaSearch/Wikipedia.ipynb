{
 "cells": [
  {
   "cell_type": "markdown",
   "metadata": {},
   "source": [
    "# Challenge definition"
   ]
  },
  {
   "cell_type": "markdown",
   "metadata": {},
   "source": [
    "**Wikipedia Search (30-60 min)**\n",
    "\n",
    "Wikipedia has a [free open search API](https://www.mediawiki.org/wiki/API:Search).\n",
    "\n",
    "In the language and framework of your choice, write a piece of code that **queries** the pages containing the term 絵⽂字 in both English and Japanese pages, limiting the search to the first 100 pages for each language.\n",
    "\n",
    "From the combined queried pages, **output** the page title, page size and page language ranked by page size. Only output the first 20 results.\n",
    "\n",
    "---"
   ]
  },
  {
   "cell_type": "markdown",
   "metadata": {},
   "source": [
    "# Solution"
   ]
  },
  {
   "cell_type": "markdown",
   "metadata": {},
   "source": [
    "The provided link includes a complete documentation that covers everything that is asked for this task. \n",
    "\n",
    "It is possible to set the parameters of API to what is requested here and fetch the required data as requested.\n",
    "- `srsearch` parameter is used to search all the titles or contents, looking for the term that is asked for.\n",
    "- Limiting the number of pages to 100 is done by setting the parameter `srlimit`\n",
    "- Lastly, we would like to rank the pages based on their size. By assigning the proper value(s) to `srprop` parameter we can get various properties in the output of the API. In this case by setting this parameter to `size` we get our ranking metric.\n",
    "\n",
    "After setting the parameters, we can call the API once for English pages and once for Japanese ones. Then we extract the required fields (`title`, `size`, and `language`) from the output of the API and keep them in a list of jsons. After that we combine the two lists and sort them based the page size. Finally we select the top 20 results and output them.\n",
    "\n",
    "In the following, you can find the implemented version of this in Python:"
   ]
  },
  {
   "cell_type": "markdown",
   "metadata": {},
   "source": [
    "### Install required libraries"
   ]
  },
  {
   "cell_type": "code",
   "execution_count": 1,
   "metadata": {},
   "outputs": [
    {
     "name": "stdout",
     "output_type": "stream",
     "text": [
      "Requirement already satisfied: requests in ./.venv/lib/python3.12/site-packages (from -r requirements.txt (line 1)) (2.32.3)\n",
      "Requirement already satisfied: charset-normalizer<4,>=2 in ./.venv/lib/python3.12/site-packages (from requests->-r requirements.txt (line 1)) (3.3.2)\n",
      "Requirement already satisfied: idna<4,>=2.5 in ./.venv/lib/python3.12/site-packages (from requests->-r requirements.txt (line 1)) (3.10)\n",
      "Requirement already satisfied: urllib3<3,>=1.21.1 in ./.venv/lib/python3.12/site-packages (from requests->-r requirements.txt (line 1)) (2.2.3)\n",
      "Requirement already satisfied: certifi>=2017.4.17 in ./.venv/lib/python3.12/site-packages (from requests->-r requirements.txt (line 1)) (2024.8.30)\n"
     ]
    }
   ],
   "source": [
    "!pip install -r requirements.txt"
   ]
  },
  {
   "cell_type": "markdown",
   "metadata": {},
   "source": [
    "### Import required libraries"
   ]
  },
  {
   "cell_type": "code",
   "execution_count": 2,
   "metadata": {},
   "outputs": [],
   "source": [
    "import requests"
   ]
  },
  {
   "cell_type": "code",
   "execution_count": 3,
   "metadata": {},
   "outputs": [],
   "source": [
    "def query_wikipedia(api_url: str, language: str, search_term: str, limit: int) -> list:\n",
    "    \"\"\"This function calls the Wikipedia API and fetches data for the search_term limiting the search to 100 first pages\n",
    "\n",
    "    Args:\n",
    "        api_url (str): _description_\n",
    "        language (str): _description_\n",
    "        search_term (str): _description_\n",
    "        limit (int): _description_\n",
    "\n",
    "    Returns:\n",
    "        list: _description_\n",
    "    \"\"\"\n",
    "    params = {\n",
    "        \"action\": \"query\",\n",
    "        \"list\": \"search\",\n",
    "        \"srsearch\": search_term,\n",
    "        \"srlimit\": limit,\n",
    "        \"format\": \"json\",\n",
    "        \"srprop\": \"size\",\n",
    "    }\n",
    "\n",
    "    response = requests.get(api_url, params=params)\n",
    "    if response.status_code == 200:\n",
    "        data = response.json()\n",
    "        return [\n",
    "            {\"title\": page[\"title\"], \"size\": page[\"size\"], \"language\": language}\n",
    "            for page in data[\"query\"][\"search\"]\n",
    "        ]\n",
    "    else:\n",
    "        print(f\"Failed to fetch data from {language} Wikipedia\")\n",
    "        return []"
   ]
  },
  {
   "cell_type": "markdown",
   "metadata": {},
   "source": [
    "Set parameters"
   ]
  },
  {
   "cell_type": "code",
   "execution_count": 4,
   "metadata": {},
   "outputs": [],
   "source": [
    "# Wikipedia API URLs\n",
    "EN_WIKI_API = \"https://en.wikipedia.org/w/api.php\"\n",
    "JA_WIKI_API = \"https://ja.wikipedia.org/w/api.php\"\n",
    "\n",
    "# Search term\n",
    "SEARCH_TERM = \"絵⽂字\"\n",
    "LIMIT = 100"
   ]
  },
  {
   "cell_type": "code",
   "execution_count": 5,
   "metadata": {},
   "outputs": [
    {
     "name": "stdout",
     "output_type": "stream",
     "text": [
      "1. Unicode6.0の携帯電話の絵文字の一覧 (Japanese) - 152640 bytes\n",
      "2. Tomokazu Sugita (English) - 144111 bytes\n",
      "3. UnicodeのEmojiの一覧 (Japanese) - 125658 bytes\n",
      "4. Shin-ichiro Miki (English) - 120314 bytes\n",
      "5. Takahiro Sakurai (English) - 111199 bytes\n",
      "6. Emoji (English) - 107096 bytes\n",
      "7. 囲み文字 (Japanese) - 102499 bytes\n",
      "8. Au (携帯電話) (Japanese) - 95109 bytes\n",
      "9. List of Japanese loanwords in Indonesian (English) - 86042 bytes\n",
      "10. 文字 (Japanese) - 85694 bytes\n",
      "11. Takehito Koyasu (English) - 81287 bytes\n",
      "12. ロンゴロンゴ (Japanese) - 81024 bytes\n",
      "13. Jouji Nakata (English) - 74380 bytes\n",
      "14. 国旗の一覧 (Japanese) - 67466 bytes\n",
      "15. 地上天気図 (Japanese) - 55690 bytes\n",
      "16. アナトリア象形文字 (Japanese) - 52699 bytes\n",
      "17. Moai (English) - 49249 bytes\n",
      "18. 7月17日 (Japanese) - 45715 bytes\n",
      "19. Kōji Yusa (English) - 43175 bytes\n",
      "20. 携帯電話の絵文字 (Japanese) - 38611 bytes\n"
     ]
    }
   ],
   "source": [
    "# Query English and Japanese Wikipedia\n",
    "english_results = query_wikipedia(EN_WIKI_API, \"English\", SEARCH_TERM, LIMIT)\n",
    "japanese_results = query_wikipedia(JA_WIKI_API, \"Japanese\", SEARCH_TERM, LIMIT)\n",
    "\n",
    "# Combine results from both languages\n",
    "combined_results = english_results + japanese_results\n",
    "\n",
    "# Sort results by page size in descending order\n",
    "sorted_results = sorted(combined_results, key=lambda x: x[\"size\"], reverse=True)\n",
    "\n",
    "# Output the first 20 results\n",
    "top_20_results = sorted_results[:20]\n",
    "\n",
    "# Display the results\n",
    "for idx, result in enumerate(top_20_results, start=1):\n",
    "    print(f\"{idx}. {result['title']} ({result['language']}) - {result['size']} bytes\")"
   ]
  }
 ],
 "metadata": {
  "kernelspec": {
   "display_name": ".venv",
   "language": "python",
   "name": "python3"
  },
  "language_info": {
   "codemirror_mode": {
    "name": "ipython",
    "version": 3
   },
   "file_extension": ".py",
   "mimetype": "text/x-python",
   "name": "python",
   "nbconvert_exporter": "python",
   "pygments_lexer": "ipython3",
   "version": "3.12.3"
  }
 },
 "nbformat": 4,
 "nbformat_minor": 2
}
